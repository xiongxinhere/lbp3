{
 "cells": [
  {
   "cell_type": "markdown",
   "metadata": {},
   "source": [
    "## End to end model:feature data generator"
   ]
  },
  {
   "cell_type": "markdown",
   "metadata": {},
   "source": [
    "### feature_extraction"
   ]
  },
  {
   "cell_type": "code",
   "execution_count": 1,
   "metadata": {},
   "outputs": [
    {
     "name": "stderr",
     "output_type": "stream",
     "text": [
      "Using TensorFlow backend.\n"
     ]
    }
   ],
   "source": [
    "from feature_extractor import *\n",
    "\n",
    "%load_ext autoreload\n",
    "%autoreload 2"
   ]
  },
  {
   "cell_type": "code",
   "execution_count": 2,
   "metadata": {},
   "outputs": [
    {
     "name": "stdout",
     "output_type": "stream",
     "text": [
      "build completed!\n"
     ]
    }
   ],
   "source": [
    "class_feature_extrctor = FeatureExtrctor(gpu_num = 4, gpus = \"0,1,2,3\")\n",
    "class_feature_extrctor.build_model()"
   ]
  },
  {
   "cell_type": "code",
   "execution_count": 3,
   "metadata": {},
   "outputs": [
    {
     "name": "stdout",
     "output_type": "stream",
     "text": [
      "16384/16384 [==============================] - 24s 1ms/step\n"
     ]
    }
   ],
   "source": [
    "pic_path = \"/home/sakulaki/TCTDATA/08\"\n",
    "\n",
    "class_feature_extrctor.read_big_pic(pic_path)\n",
    "feature = class_feature_extrctor.feature_extrctor()"
   ]
  },
  {
   "cell_type": "markdown",
   "metadata": {},
   "source": [
    "### feature and label dataset generate"
   ]
  },
  {
   "cell_type": "code",
   "execution_count": null,
   "metadata": {},
   "outputs": [],
   "source": [
    "import h5py\n",
    "import numpy as np\n",
    "\n",
    "features = np.empty([100, 128, 128, 2048], dtype = float)\n",
    "labels = np.empty([100], dtype = int)\n",
    "\n",
    "print(\"du\", features.shape)\n",
    "print(\"du\", labels.shape)\n",
    "\n",
    "h5f = h5py.File('feature_label.h5', 'w')\n",
    "h5f.create_dataset('features', data=features)\n",
    "h5f.create_dataset('labels', data=labels)\n",
    "\n",
    "h5f.close()"
   ]
  },
  {
   "cell_type": "code",
   "execution_count": null,
   "metadata": {
    "collapsed": true
   },
   "outputs": [],
   "source": []
  }
 ],
 "metadata": {
  "kernelspec": {
   "display_name": "Python 3",
   "language": "python",
   "name": "python3"
  },
  "language_info": {
   "codemirror_mode": {
    "name": "ipython",
    "version": 3
   },
   "file_extension": ".py",
   "mimetype": "text/x-python",
   "name": "python",
   "nbconvert_exporter": "python",
   "pygments_lexer": "ipython3",
   "version": "3.5.4"
  }
 },
 "nbformat": 4,
 "nbformat_minor": 2
}
