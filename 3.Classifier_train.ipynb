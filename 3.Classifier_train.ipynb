{
 "cells": [
  {
   "cell_type": "markdown",
   "metadata": {},
   "source": [
    "## End to end model:Classifier"
   ]
  },
  {
   "cell_type": "code",
   "execution_count": 1,
   "metadata": {},
   "outputs": [
    {
     "name": "stderr",
     "output_type": "stream",
     "text": [
      "Using TensorFlow backend.\n"
     ]
    }
   ],
   "source": [
    "from keras.models import *\n",
    "from keras.layers import *\n",
    "from keras.applications import *\n",
    "from keras.preprocessing.image import *\n",
    "from keras import optimizers\n",
    "from keras.applications.vgg19 import preprocess_input\n",
    "from keras.utils.training_utils import multi_gpu_model\n",
    "import tensorflow as tf\n",
    "import cv2\n",
    "import os\n",
    "from keras.utils import to_categorical"
   ]
  },
  {
   "cell_type": "markdown",
   "metadata": {},
   "source": [
    "## 1 read feature and label"
   ]
  },
  {
   "cell_type": "code",
   "execution_count": 2,
   "metadata": {
    "collapsed": true
   },
   "outputs": [],
   "source": [
    "import h5py\n",
    "import numpy as np\n",
    "\n",
    "h5f = h5py.File('feature_label.h5','r')\n",
    "features = h5f['features'][:]\n",
    "labels = h5f['labels'][:]\n",
    "h5f.close()"
   ]
  },
  {
   "cell_type": "code",
   "execution_count": 3,
   "metadata": {},
   "outputs": [
    {
     "name": "stdout",
     "output_type": "stream",
     "text": [
      "du (100, 128, 128, 2048)\n",
      "du (100, 1)\n",
      "du (100, 1)\n",
      "du <class 'numpy.ndarray'>\n"
     ]
    }
   ],
   "source": [
    "labels = labels.reshape([100,1])\n",
    "print(\"du\", features.shape)\n",
    "print(\"du\", labels.shape)\n",
    "\n",
    "for i in range(100):\n",
    "    labels[i] = int(i%2)\n",
    "\n",
    "print(\"du\", labels.shape)\n",
    "labels = to_categorical(labels,2)\n",
    "print(\"du\", type(labels[0]))"
   ]
  },
  {
   "cell_type": "markdown",
   "metadata": {},
   "source": [
    "## 2 build classifier"
   ]
  },
  {
   "cell_type": "code",
   "execution_count": 4,
   "metadata": {},
   "outputs": [
    {
     "name": "stdout",
     "output_type": "stream",
     "text": [
      "_________________________________________________________________\n",
      "Layer (type)                 Output Shape              Param #   \n",
      "=================================================================\n",
      "input_1 (InputLayer)         (None, 128, 128, 2048)    0         \n",
      "_________________________________________________________________\n",
      "conv1_1 (Conv2D)             (None, 64, 64, 4096)      75501568  \n",
      "_________________________________________________________________\n",
      "conv1_2 (Conv2D)             (None, 64, 64, 2048)      8390656   \n",
      "_________________________________________________________________\n",
      "conv2_1 (Conv2D)             (None, 32, 32, 4096)      75501568  \n",
      "_________________________________________________________________\n",
      "conv2_2 (Conv2D)             (None, 32, 32, 2048)      8390656   \n",
      "_________________________________________________________________\n",
      "conv3_1 (Conv2D)             (None, 16, 16, 4096)      75501568  \n",
      "_________________________________________________________________\n",
      "conv3_2 (Conv2D)             (None, 16, 16, 2048)      8390656   \n",
      "_________________________________________________________________\n",
      "conv4_1 (Conv2D)             (None, 8, 8, 4096)        75501568  \n",
      "_________________________________________________________________\n",
      "conv4_2 (Conv2D)             (None, 8, 8, 2048)        8390656   \n",
      "_________________________________________________________________\n",
      "global_max_pooling2d_1 (Glob (None, 2048)              0         \n",
      "_________________________________________________________________\n",
      "dropout_1 (Dropout)          (None, 2048)              0         \n",
      "_________________________________________________________________\n",
      "dense_1 (Dense)              (None, 2)                 4098      \n",
      "=================================================================\n",
      "Total params: 335,572,994\n",
      "Trainable params: 335,572,994\n",
      "Non-trainable params: 0\n",
      "_________________________________________________________________\n",
      "__________________________________________________________________________________________________\n",
      "Layer (type)                    Output Shape         Param #     Connected to                     \n",
      "==================================================================================================\n",
      "input_1 (InputLayer)            (None, 128, 128, 204 0                                            \n",
      "__________________________________________________________________________________________________\n",
      "lambda_1 (Lambda)               (None, 128, 128, 204 0           input_1[0][0]                    \n",
      "__________________________________________________________________________________________________\n",
      "lambda_2 (Lambda)               (None, 128, 128, 204 0           input_1[0][0]                    \n",
      "__________________________________________________________________________________________________\n",
      "lambda_3 (Lambda)               (None, 128, 128, 204 0           input_1[0][0]                    \n",
      "__________________________________________________________________________________________________\n",
      "lambda_4 (Lambda)               (None, 128, 128, 204 0           input_1[0][0]                    \n",
      "__________________________________________________________________________________________________\n",
      "model_1 (Model)                 (None, 2)            335572994   lambda_1[0][0]                   \n",
      "                                                                 lambda_2[0][0]                   \n",
      "                                                                 lambda_3[0][0]                   \n",
      "                                                                 lambda_4[0][0]                   \n",
      "__________________________________________________________________________________________________\n",
      "dense_1 (Concatenate)           (None, 2)            0           model_1[1][0]                    \n",
      "                                                                 model_1[2][0]                    \n",
      "                                                                 model_1[3][0]                    \n",
      "                                                                 model_1[4][0]                    \n",
      "==================================================================================================\n",
      "Total params: 335,572,994\n",
      "Trainable params: 335,572,994\n",
      "Non-trainable params: 0\n",
      "__________________________________________________________________________________________________\n"
     ]
    }
   ],
   "source": [
    "with tf.device('/cpu:0'):\n",
    "    input_tensor = Input((128, 128, 2048))\n",
    "\n",
    "    # out 64 64 2048\n",
    "    conv1_1 = Conv2D(filters = 4096, kernel_size = (3, 3), strides = (2, 2),\n",
    "                   activation='relu', padding='same', name='conv1_1')(input_tensor)\n",
    "    conv1_2 = Conv2D(filters = 2048, kernel_size = (1, 1), strides = (1, 1),\n",
    "                   activation='relu', padding='same', name='conv1_2')(conv1_1)\n",
    "    # out 32 32 2048\n",
    "    conv2_1 = Conv2D(filters = 4096, kernel_size = (3, 3), strides = (2, 2),\n",
    "                   activation='relu', padding='same', name='conv2_1')(conv1_2)\n",
    "    conv2_2 = Conv2D(filters = 2048, kernel_size = (1, 1), strides = (1, 1),\n",
    "                   activation='relu', padding='same', name='conv2_2')(conv2_1)\n",
    "    # out 16 16 2048\n",
    "    conv3_1 = Conv2D(filters = 4096, kernel_size = (3, 3), strides = (2, 2),\n",
    "                   activation='relu', padding='same', name='conv3_1')(conv2_2)\n",
    "    conv3_2 = Conv2D(filters = 2048, kernel_size = (1, 1), strides = (1, 1),\n",
    "                   activation='relu', padding='same', name='conv3_2')(conv3_1)\n",
    "    # out 8 8 2048\n",
    "    conv4_1 = Conv2D(filters = 4096, kernel_size = (3, 3), strides = (2, 2),\n",
    "                   activation='relu', padding='same', name='conv4_1')(conv3_2)\n",
    "    conv4_2 = Conv2D(filters = 2048, kernel_size = (1, 1), strides = (1, 1),\n",
    "                   activation='relu', padding='same', name='conv4_2')(conv4_1)\n",
    "    # out 2048\n",
    "    gap = GlobalMaxPooling2D()(conv4_2)\n",
    "\n",
    "    # dropout\n",
    "    p_out = Dropout(0.5)(gap)\n",
    "    predictions = Dense(2, activation='softmax')(p_out)\n",
    "\n",
    "    model = Model(inputs=input_tensor, outputs=predictions)\n",
    "    model.summary()\n",
    "\n",
    "parallel_model = multi_gpu_model(model, gpus=4)\n",
    "parallel_model.compile(optimizer='Adadelta', \n",
    "                       loss='categorical_crossentropy', \n",
    "                       metrics=['accuracy'])\n",
    "parallel_model.summary()"
   ]
  },
  {
   "cell_type": "code",
   "execution_count": 9,
   "metadata": {},
   "outputs": [
    {
     "name": "stdout",
     "output_type": "stream",
     "text": [
      "_________________________________________________________________\n",
      "Layer (type)                 Output Shape              Param #   \n",
      "=================================================================\n",
      "input_1 (InputLayer)         (None, 128, 128, 2048)    0         \n",
      "_________________________________________________________________\n",
      "conv1_1 (Conv2D)             (None, 64, 64, 4096)      75501568  \n",
      "_________________________________________________________________\n",
      "conv1_2 (Conv2D)             (None, 64, 64, 2048)      8390656   \n",
      "_________________________________________________________________\n",
      "conv2_1 (Conv2D)             (None, 32, 32, 4096)      75501568  \n",
      "_________________________________________________________________\n",
      "conv2_2 (Conv2D)             (None, 32, 32, 2048)      8390656   \n",
      "_________________________________________________________________\n",
      "conv3_1 (Conv2D)             (None, 16, 16, 4096)      75501568  \n",
      "_________________________________________________________________\n",
      "conv3_2 (Conv2D)             (None, 16, 16, 2048)      8390656   \n",
      "_________________________________________________________________\n",
      "conv4_1 (Conv2D)             (None, 8, 8, 4096)        75501568  \n",
      "_________________________________________________________________\n",
      "conv4_2 (Conv2D)             (None, 8, 8, 2048)        8390656   \n",
      "_________________________________________________________________\n",
      "global_max_pooling2d_1 (Glob (None, 2048)              0         \n",
      "_________________________________________________________________\n",
      "dropout_1 (Dropout)          (None, 2048)              0         \n",
      "_________________________________________________________________\n",
      "dense_1 (Dense)              (None, 2)                 4098      \n",
      "=================================================================\n",
      "Total params: 335,572,994\n",
      "Trainable params: 335,572,994\n",
      "Non-trainable params: 0\n",
      "_________________________________________________________________\n"
     ]
    }
   ],
   "source": [
    "input_tensor = Input((128, 128, 2048))\n",
    "\n",
    "# out 64 64 2048\n",
    "conv1_1 = Conv2D(filters = 4096, kernel_size = (3, 3), strides = (2, 2),\n",
    "                   activation='relu', padding='same', name='conv1_1')(input_tensor)\n",
    "conv1_2 = Conv2D(filters = 2048, kernel_size = (1, 1), strides = (1, 1),\n",
    "                   activation='relu', padding='same', name='conv1_2')(conv1_1)\n",
    "# out 32 32 2048\n",
    "conv2_1 = Conv2D(filters = 4096, kernel_size = (3, 3), strides = (2, 2),\n",
    "                   activation='relu', padding='same', name='conv2_1')(conv1_2)\n",
    "conv2_2 = Conv2D(filters = 2048, kernel_size = (1, 1), strides = (1, 1),\n",
    "                   activation='relu', padding='same', name='conv2_2')(conv2_1)\n",
    "# out 16 16 2048\n",
    "conv3_1 = Conv2D(filters = 4096, kernel_size = (3, 3), strides = (2, 2),\n",
    "                   activation='relu', padding='same', name='conv3_1')(conv2_2)\n",
    "conv3_2 = Conv2D(filters = 2048, kernel_size = (1, 1), strides = (1, 1),\n",
    "                   activation='relu', padding='same', name='conv3_2')(conv3_1)\n",
    "# out 8 8 2048\n",
    "conv4_1 = Conv2D(filters = 4096, kernel_size = (3, 3), strides = (2, 2),\n",
    "                   activation='relu', padding='same', name='conv4_1')(conv3_2)\n",
    "conv4_2 = Conv2D(filters = 2048, kernel_size = (1, 1), strides = (1, 1),\n",
    "                   activation='relu', padding='same', name='conv4_2')(conv4_1)\n",
    "# out 2048\n",
    "gap = GlobalMaxPooling2D()(conv4_2)\n",
    "\n",
    "# dropout\n",
    "p_out = Dropout(0.5)(gap)\n",
    "predictions = Dense(2, activation='softmax')(p_out)\n",
    "\n",
    "model = Model(inputs=input_tensor, outputs=predictions)\n",
    "model.summary()\n",
    "\n",
    "model.compile(optimizer='Adadelta', \n",
    "                       loss='categorical_crossentropy', \n",
    "                       metrics=['accuracy'])"
   ]
  },
  {
   "cell_type": "code",
   "execution_count": null,
   "metadata": {},
   "outputs": [
    {
     "name": "stdout",
     "output_type": "stream",
     "text": [
      "du (100, 128, 128, 2048)\n",
      "du (100, 2)\n",
      "Epoch 1/100\n",
      "100/100 [==============================] - 170s 2s/step - loss: 0.6940 - acc: 0.4000\n",
      "Epoch 2/100\n",
      "100/100 [==============================] - 170s 2s/step - loss: 0.6941 - acc: 0.4100\n",
      "Epoch 3/100\n",
      " 55/100 [===============>..............] - ETA: 1:15 - loss: 0.6941 - acc: 0.4545"
     ]
    }
   ],
   "source": [
    "print(\"du\", features.shape)\n",
    "print(\"du\", labels.shape)\n",
    "parallel_model.fit(x=features, y=labels, batch_size=1, epochs=100, verbose=1)"
   ]
  },
  {
   "cell_type": "code",
   "execution_count": null,
   "metadata": {
    "collapsed": true
   },
   "outputs": [],
   "source": []
  },
  {
   "cell_type": "code",
   "execution_count": null,
   "metadata": {
    "collapsed": true
   },
   "outputs": [],
   "source": []
  },
  {
   "cell_type": "code",
   "execution_count": null,
   "metadata": {
    "collapsed": true
   },
   "outputs": [],
   "source": []
  },
  {
   "cell_type": "code",
   "execution_count": null,
   "metadata": {
    "collapsed": true
   },
   "outputs": [],
   "source": []
  }
 ],
 "metadata": {
  "kernelspec": {
   "display_name": "Python 3",
   "language": "python",
   "name": "python3"
  },
  "language_info": {
   "codemirror_mode": {
    "name": "ipython",
    "version": 3
   },
   "file_extension": ".py",
   "mimetype": "text/x-python",
   "name": "python",
   "nbconvert_exporter": "python",
   "pygments_lexer": "ipython3",
   "version": "3.5.4"
  }
 },
 "nbformat": 4,
 "nbformat_minor": 2
}
