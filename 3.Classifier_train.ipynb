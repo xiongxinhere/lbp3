{
 "cells": [
  {
   "cell_type": "markdown",
   "metadata": {},
   "source": [
    "## End to end model:Classifier"
   ]
  },
  {
   "cell_type": "code",
   "execution_count": null,
   "metadata": {
    "collapsed": true
   },
   "outputs": [],
   "source": [
    "import h5py\n",
    "\n",
    "features = np.array([10, 128, 128, 2048])\n",
    "labels = np.array([10])\n",
    "\n",
    "h5f = h5py.File('feature_label.h5', 'w')\n",
    "h5f.create_dataset('features', data=features)\n",
    "h5f.create_dataset('labels', data=labels)\n",
    "\n",
    "h5f = h5py.File('data.h5','r')\n",
    "b = h5f['dataset_1'][:]\n",
    "h5f.close()\n"
   ]
  }
 ],
 "metadata": {
  "kernelspec": {
   "display_name": "Python 3",
   "language": "python",
   "name": "python3"
  },
  "language_info": {
   "codemirror_mode": {
    "name": "ipython",
    "version": 3
   },
   "file_extension": ".py",
   "mimetype": "text/x-python",
   "name": "python",
   "nbconvert_exporter": "python",
   "pygments_lexer": "ipython3",
   "version": "3.5.4"
  }
 },
 "nbformat": 4,
 "nbformat_minor": 2
}
